{
 "cells": [
  {
   "cell_type": "code",
   "execution_count": 10,
   "metadata": {},
   "outputs": [],
   "source": [
    "import pandas as pd\n",
    "import altair"
   ]
  },
  {
   "cell_type": "markdown",
   "metadata": {},
   "source": [
    "# Data Extraction"
   ]
  },
  {
   "cell_type": "code",
   "execution_count": null,
   "metadata": {},
   "outputs": [],
   "source": [
    "from dotenv import load_dotenv\n",
    "import os\n",
    "from Crypto.Hash import MD5\n",
    "import requests\n",
    "import time"
   ]
  },
  {
   "cell_type": "code",
   "execution_count": 55,
   "metadata": {},
   "outputs": [],
   "source": [
    "class DataExtractor:\n",
    "\n",
    "    __url:str = \"http://gateway.marvel.com/v1/public/\"\n",
    "    #__endpoints:str = [\"characters\", \"comics\", \"creators\", \"events\", \"series\", \"stories\"]\n",
    "    __endpoints:str = [\"characters\", \"comics\"]\n",
    "    __priv_key:str = None\n",
    "    __pub_key:str = None\n",
    "\n",
    "    def __init__(self):  \n",
    "        \"\"\"\n",
    "        Loads the public and private keys from the .env file, necessary to acess the API.\n",
    "        \"\"\"\n",
    "\n",
    "        load_dotenv()\n",
    "        self.__priv_key = os.getenv('PRIV_KEY')\n",
    "        self.__pub_key = os.getenv('PUB_KEY')\n",
    "\n",
    "    def __format_request_url(self, endpoint:str) -> str:\n",
    "        \"\"\"\n",
    "        Formats the URL to be used in a request, using the timestamp, public and private keys and the desired endpoint.\n",
    "\n",
    "        Args:\n",
    "            endpoint (str): The endpoint of the request URL.\n",
    "\n",
    "        Returns:\n",
    "            str: The formatted request URL.\n",
    "\n",
    "        Raises:\n",
    "            ValueError: If the provided endpoint is not valid.\n",
    "        \"\"\"\n",
    "\n",
    "        # Verifies the endpoint exists in the API\n",
    "        if endpoint not in self.__endpoints:\n",
    "            raise ValueError(f'{endpoint} is not a valid endpoint.')\n",
    "\n",
    "        timestamp = time.time()\n",
    "        timestamp_str = f\"ts={timestamp}\"\n",
    "\n",
    "        apikey_str = \"apikey=\" + self.__pub_key\n",
    "\n",
    "        # Calculates the MD5 hash, needed for the URL\n",
    "        md5_message = str(timestamp) + self.__priv_key + self.__pub_key\n",
    "        hash_str = \"hash=\" + MD5.new(str.encode(md5_message)).hexdigest()\n",
    "\n",
    "        request_url = self.__url + endpoint + \"?\" + timestamp_str + \"&\" + apikey_str + \"&\" + hash_str\n",
    "        return request_url\n",
    "    \n",
    "    def __make_request(self, request_url:str) -> dict:\n",
    "        \"\"\"\n",
    "        Makes a request to the API.\n",
    "\n",
    "        Args:\n",
    "            request_url (str): The request URL.\n",
    "\n",
    "        Returns:\n",
    "            dict: The data of the response in JSON.\n",
    "\n",
    "        Raises:\n",
    "            requests.HTTPError: If the received status code is not 200.\n",
    "        \"\"\"\n",
    "\n",
    "        # Makes the request\n",
    "        response = requests.get(request_url)\n",
    "\n",
    "        if response.status_code != 200:\n",
    "            raise requests.HTTPError(f\"Received status code {response.status_code} for {response.url}\")\n",
    "        \n",
    "        # Filters metadata out\n",
    "        return response.json()['data']['results']\n",
    "\n",
    "    def extract(self) -> dict:\n",
    "        \"\"\"\n",
    "        Extracts the data from all API endpoints.\n",
    "\n",
    "        Args:\n",
    "\n",
    "        Returns:\n",
    "            dict: The API data, where the key-value pairs are the endpoints (str) and its \n",
    "            data (dict) in JSON format, if the request was successful, and None otherwise.\n",
    "\n",
    "        Raises:\n",
    "        \"\"\"\n",
    "\n",
    "        api_data = {}\n",
    "\n",
    "        # For each endpoints, tries to extract the data and add it to the api_data dictionary\n",
    "        for endpoint in self.__endpoints:\n",
    "            try:\n",
    "                request_url = self.__format_request_url(endpoint)\n",
    "                endpoint_data = self.__make_request(request_url)\n",
    "                api_data[endpoint] = endpoint_data\n",
    "\n",
    "            except Exception as e:\n",
    "                print(f\"Error: {e}\")\n",
    "\n",
    "                # If the request was unsuccessful, adds the endpoint key to the dict with null data\n",
    "                api_data[endpoint] = None \n",
    "        \n",
    "        return api_data"
   ]
  },
  {
   "cell_type": "code",
   "execution_count": null,
   "metadata": {},
   "outputs": [],
   "source": [
    "de = DataExtractor()\n",
    "data_json = de.extract()"
   ]
  },
  {
   "cell_type": "markdown",
   "metadata": {},
   "source": [
    "# Data Transformation"
   ]
  },
  {
   "cell_type": "code",
   "execution_count": 8,
   "metadata": {},
   "outputs": [],
   "source": [
    "class dataTransformator:\n",
    "\n",
    "    def parse_topic(topic_data:dict) -> pd.DataFrame:\n",
    "        pass\n",
    "\n",
    "    def parse(data:dict) -> list[pd.DataFrame]:\n",
    "        pass"
   ]
  },
  {
   "cell_type": "markdown",
   "metadata": {},
   "source": [
    "# Data analysis"
   ]
  },
  {
   "cell_type": "code",
   "execution_count": null,
   "metadata": {},
   "outputs": [],
   "source": []
  }
 ],
 "metadata": {
  "kernelspec": {
   "display_name": "venv",
   "language": "python",
   "name": "python3"
  },
  "language_info": {
   "codemirror_mode": {
    "name": "ipython",
    "version": 3
   },
   "file_extension": ".py",
   "mimetype": "text/x-python",
   "name": "python",
   "nbconvert_exporter": "python",
   "pygments_lexer": "ipython3",
   "version": "3.12.8"
  }
 },
 "nbformat": 4,
 "nbformat_minor": 2
}
