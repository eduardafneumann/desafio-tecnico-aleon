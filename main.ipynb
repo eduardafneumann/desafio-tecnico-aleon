{
 "cells": [
  {
   "cell_type": "code",
   "execution_count": 9,
   "metadata": {},
   "outputs": [],
   "source": [
    "import pandas as pd\n",
    "import requests\n",
    "import json\n",
    "import altair"
   ]
  },
  {
   "cell_type": "markdown",
   "metadata": {},
   "source": [
    "# Data Extraction"
   ]
  },
  {
   "cell_type": "code",
   "execution_count": 7,
   "metadata": {},
   "outputs": [],
   "source": [
    "class dataExtractor:\n",
    "    \n",
    "    URL = \"http://gateway.marvel.com/v1/public\"\n",
    "\n",
    "    def __init__(self):\n",
    "        pass\n",
    "\n",
    "    def __format_request(endpoint:str) -> str:\n",
    "        pass\n",
    "\n",
    "    def __extract_topic(topic:str) -> dict:\n",
    "        pass\n",
    "\n",
    "    def extract_characters() -> dict:\n",
    "        pass\n",
    "\n",
    "    def extract_comics() -> dict:\n",
    "        pass\n",
    "\n",
    "    def extract_creators() -> dict:\n",
    "        pass\n",
    "\n",
    "    def extract_events() -> dict:\n",
    "        pass\n",
    "\n",
    "    def extract_series() -> dict:\n",
    "        pass\n",
    "\n",
    "    def extract_stories() -> dict:\n",
    "        pass\n",
    "\n",
    "    def extract() -> dict:\n",
    "        pass\n"
   ]
  },
  {
   "cell_type": "markdown",
   "metadata": {},
   "source": [
    "# Data Transformation"
   ]
  },
  {
   "cell_type": "code",
   "execution_count": 8,
   "metadata": {},
   "outputs": [],
   "source": [
    "class dataTransformator:\n",
    "\n",
    "    def parse_topic(topic_data:dict) -> pd.DataFrame:\n",
    "        pass\n",
    "\n",
    "    def parse(data:dict) -> list[pd.DataFrame]:\n",
    "        pass"
   ]
  },
  {
   "cell_type": "markdown",
   "metadata": {},
   "source": [
    "# Data analysis"
   ]
  },
  {
   "cell_type": "code",
   "execution_count": null,
   "metadata": {},
   "outputs": [],
   "source": []
  }
 ],
 "metadata": {
  "kernelspec": {
   "display_name": "venv",
   "language": "python",
   "name": "python3"
  },
  "language_info": {
   "codemirror_mode": {
    "name": "ipython",
    "version": 3
   },
   "file_extension": ".py",
   "mimetype": "text/x-python",
   "name": "python",
   "nbconvert_exporter": "python",
   "pygments_lexer": "ipython3",
   "version": "3.12.8"
  }
 },
 "nbformat": 4,
 "nbformat_minor": 2
}
